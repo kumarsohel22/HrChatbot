{
 "cells": [
  {
   "cell_type": "code",
   "execution_count": 2,
   "id": "98cee0e3",
   "metadata": {},
   "outputs": [
    {
     "name": "stdout",
     "output_type": "stream",
     "text": [
      "Requirement already satisfied: unstructured in d:\\study\\gen ai\\langchain\\.venv\\lib\\site-packages (0.18.14)\n",
      "Requirement already satisfied: openpyxl in d:\\study\\gen ai\\langchain\\.venv\\lib\\site-packages (3.1.5)\n",
      "Requirement already satisfied: networkx in d:\\study\\gen ai\\langchain\\.venv\\lib\\site-packages (3.5)\n",
      "Collecting msoffcrypto-tool\n",
      "  Downloading msoffcrypto_tool-5.4.2-py3-none-any.whl.metadata (10 kB)\n",
      "Requirement already satisfied: charset-normalizer in d:\\study\\gen ai\\langchain\\.venv\\lib\\site-packages (from unstructured) (3.4.3)\n",
      "Requirement already satisfied: filetype in d:\\study\\gen ai\\langchain\\.venv\\lib\\site-packages (from unstructured) (1.2.0)\n",
      "Requirement already satisfied: python-magic in d:\\study\\gen ai\\langchain\\.venv\\lib\\site-packages (from unstructured) (0.4.27)\n",
      "Requirement already satisfied: lxml in d:\\study\\gen ai\\langchain\\.venv\\lib\\site-packages (from unstructured) (6.0.1)\n",
      "Requirement already satisfied: nltk in d:\\study\\gen ai\\langchain\\.venv\\lib\\site-packages (from unstructured) (3.9.1)\n",
      "Requirement already satisfied: requests in d:\\study\\gen ai\\langchain\\.venv\\lib\\site-packages (from unstructured) (2.32.5)\n",
      "Requirement already satisfied: beautifulsoup4 in d:\\study\\gen ai\\langchain\\.venv\\lib\\site-packages (from unstructured) (4.13.5)\n",
      "Requirement already satisfied: emoji in d:\\study\\gen ai\\langchain\\.venv\\lib\\site-packages (from unstructured) (2.14.1)\n",
      "Requirement already satisfied: dataclasses-json in d:\\study\\gen ai\\langchain\\.venv\\lib\\site-packages (from unstructured) (0.6.7)\n",
      "Requirement already satisfied: python-iso639 in d:\\study\\gen ai\\langchain\\.venv\\lib\\site-packages (from unstructured) (2025.2.18)\n",
      "Requirement already satisfied: langdetect in d:\\study\\gen ai\\langchain\\.venv\\lib\\site-packages (from unstructured) (1.0.9)\n",
      "Requirement already satisfied: numpy in d:\\study\\gen ai\\langchain\\.venv\\lib\\site-packages (from unstructured) (2.3.2)\n",
      "Requirement already satisfied: rapidfuzz in d:\\study\\gen ai\\langchain\\.venv\\lib\\site-packages (from unstructured) (3.14.0)\n",
      "Requirement already satisfied: backoff in d:\\study\\gen ai\\langchain\\.venv\\lib\\site-packages (from unstructured) (2.2.1)\n",
      "Requirement already satisfied: typing-extensions in d:\\study\\gen ai\\langchain\\.venv\\lib\\site-packages (from unstructured) (4.15.0)\n",
      "Requirement already satisfied: unstructured-client in d:\\study\\gen ai\\langchain\\.venv\\lib\\site-packages (from unstructured) (0.42.3)\n",
      "Requirement already satisfied: wrapt in d:\\study\\gen ai\\langchain\\.venv\\lib\\site-packages (from unstructured) (1.17.3)\n",
      "Requirement already satisfied: tqdm in d:\\study\\gen ai\\langchain\\.venv\\lib\\site-packages (from unstructured) (4.67.1)\n",
      "Requirement already satisfied: psutil in d:\\study\\gen ai\\langchain\\.venv\\lib\\site-packages (from unstructured) (7.0.0)\n",
      "Requirement already satisfied: python-oxmsg in d:\\study\\gen ai\\langchain\\.venv\\lib\\site-packages (from unstructured) (0.0.2)\n",
      "Requirement already satisfied: html5lib in d:\\study\\gen ai\\langchain\\.venv\\lib\\site-packages (from unstructured) (1.1)\n",
      "Requirement already satisfied: et-xmlfile in d:\\study\\gen ai\\langchain\\.venv\\lib\\site-packages (from openpyxl) (2.0.0)\n",
      "Requirement already satisfied: cryptography>=39.0 in d:\\study\\gen ai\\langchain\\.venv\\lib\\site-packages (from msoffcrypto-tool) (45.0.7)\n",
      "Requirement already satisfied: olefile>=0.46 in d:\\study\\gen ai\\langchain\\.venv\\lib\\site-packages (from msoffcrypto-tool) (0.47)\n",
      "Requirement already satisfied: cffi>=1.14 in d:\\study\\gen ai\\langchain\\.venv\\lib\\site-packages (from cryptography>=39.0->msoffcrypto-tool) (1.17.1)\n",
      "Requirement already satisfied: pycparser in d:\\study\\gen ai\\langchain\\.venv\\lib\\site-packages (from cffi>=1.14->cryptography>=39.0->msoffcrypto-tool) (2.22)\n",
      "Requirement already satisfied: soupsieve>1.2 in d:\\study\\gen ai\\langchain\\.venv\\lib\\site-packages (from beautifulsoup4->unstructured) (2.8)\n",
      "Requirement already satisfied: marshmallow<4.0.0,>=3.18.0 in d:\\study\\gen ai\\langchain\\.venv\\lib\\site-packages (from dataclasses-json->unstructured) (3.26.1)\n",
      "Requirement already satisfied: typing-inspect<1,>=0.4.0 in d:\\study\\gen ai\\langchain\\.venv\\lib\\site-packages (from dataclasses-json->unstructured) (0.9.0)\n",
      "Requirement already satisfied: packaging>=17.0 in d:\\study\\gen ai\\langchain\\.venv\\lib\\site-packages (from marshmallow<4.0.0,>=3.18.0->dataclasses-json->unstructured) (25.0)\n",
      "Requirement already satisfied: mypy-extensions>=0.3.0 in d:\\study\\gen ai\\langchain\\.venv\\lib\\site-packages (from typing-inspect<1,>=0.4.0->dataclasses-json->unstructured) (1.1.0)\n",
      "Requirement already satisfied: six>=1.9 in d:\\study\\gen ai\\langchain\\.venv\\lib\\site-packages (from html5lib->unstructured) (1.17.0)\n",
      "Requirement already satisfied: webencodings in d:\\study\\gen ai\\langchain\\.venv\\lib\\site-packages (from html5lib->unstructured) (0.5.1)\n",
      "Requirement already satisfied: click in d:\\study\\gen ai\\langchain\\.venv\\lib\\site-packages (from nltk->unstructured) (8.2.1)\n",
      "Requirement already satisfied: joblib in d:\\study\\gen ai\\langchain\\.venv\\lib\\site-packages (from nltk->unstructured) (1.5.2)\n",
      "Requirement already satisfied: regex>=2021.8.3 in d:\\study\\gen ai\\langchain\\.venv\\lib\\site-packages (from nltk->unstructured) (2025.8.29)\n",
      "Requirement already satisfied: colorama in d:\\study\\gen ai\\langchain\\.venv\\lib\\site-packages (from click->nltk->unstructured) (0.4.6)\n",
      "Requirement already satisfied: idna<4,>=2.5 in d:\\study\\gen ai\\langchain\\.venv\\lib\\site-packages (from requests->unstructured) (3.10)\n",
      "Requirement already satisfied: urllib3<3,>=1.21.1 in d:\\study\\gen ai\\langchain\\.venv\\lib\\site-packages (from requests->unstructured) (2.5.0)\n",
      "Requirement already satisfied: certifi>=2017.4.17 in d:\\study\\gen ai\\langchain\\.venv\\lib\\site-packages (from requests->unstructured) (2025.8.3)\n",
      "Requirement already satisfied: aiofiles>=24.1.0 in d:\\study\\gen ai\\langchain\\.venv\\lib\\site-packages (from unstructured-client->unstructured) (24.1.0)\n",
      "Requirement already satisfied: httpcore>=1.0.9 in d:\\study\\gen ai\\langchain\\.venv\\lib\\site-packages (from unstructured-client->unstructured) (1.0.9)\n",
      "Requirement already satisfied: httpx>=0.27.0 in d:\\study\\gen ai\\langchain\\.venv\\lib\\site-packages (from unstructured-client->unstructured) (0.28.1)\n",
      "Requirement already satisfied: pydantic>=2.11.2 in d:\\study\\gen ai\\langchain\\.venv\\lib\\site-packages (from unstructured-client->unstructured) (2.11.7)\n",
      "Requirement already satisfied: pypdf>=4.0 in d:\\study\\gen ai\\langchain\\.venv\\lib\\site-packages (from unstructured-client->unstructured) (6.0.0)\n",
      "Requirement already satisfied: requests-toolbelt>=1.0.0 in d:\\study\\gen ai\\langchain\\.venv\\lib\\site-packages (from unstructured-client->unstructured) (1.0.0)\n",
      "Requirement already satisfied: h11>=0.16 in d:\\study\\gen ai\\langchain\\.venv\\lib\\site-packages (from httpcore>=1.0.9->unstructured-client->unstructured) (0.16.0)\n",
      "Requirement already satisfied: anyio in d:\\study\\gen ai\\langchain\\.venv\\lib\\site-packages (from httpx>=0.27.0->unstructured-client->unstructured) (4.10.0)\n",
      "Requirement already satisfied: annotated-types>=0.6.0 in d:\\study\\gen ai\\langchain\\.venv\\lib\\site-packages (from pydantic>=2.11.2->unstructured-client->unstructured) (0.7.0)\n",
      "Requirement already satisfied: pydantic-core==2.33.2 in d:\\study\\gen ai\\langchain\\.venv\\lib\\site-packages (from pydantic>=2.11.2->unstructured-client->unstructured) (2.33.2)\n",
      "Requirement already satisfied: typing-inspection>=0.4.0 in d:\\study\\gen ai\\langchain\\.venv\\lib\\site-packages (from pydantic>=2.11.2->unstructured-client->unstructured) (0.4.1)\n",
      "Requirement already satisfied: sniffio>=1.1 in d:\\study\\gen ai\\langchain\\.venv\\lib\\site-packages (from anyio->httpx>=0.27.0->unstructured-client->unstructured) (1.3.1)\n",
      "Downloading msoffcrypto_tool-5.4.2-py3-none-any.whl (48 kB)\n",
      "Installing collected packages: msoffcrypto-tool\n",
      "Successfully installed msoffcrypto-tool-5.4.2\n",
      "Note: you may need to restart the kernel to use updated packages.\n"
     ]
    }
   ],
   "source": [
    "pip install unstructured openpyxl networkx msoffcrypto-tool"
   ]
  },
  {
   "cell_type": "code",
   "execution_count": 1,
   "id": "5759114b",
   "metadata": {},
   "outputs": [
    {
     "name": "stdout",
     "output_type": "stream",
     "text": [
      "1\n"
     ]
    },
    {
     "data": {
      "text/plain": [
       "[Document(metadata={'source': 'D:\\\\STUDY\\\\Gen AI\\\\Langchain\\\\hrchatbot\\\\employees.xlsx', 'file_directory': 'D:\\\\STUDY\\\\Gen AI\\\\Langchain\\\\hrchatbot', 'filename': 'employees.xlsx', 'last_modified': '2025-09-03T00:52:32', 'page_name': 'Sheet1', 'page_number': 1, 'text_as_html': '<table><tr><td>id</td><td>name</td><td>skills</td><td>experience_years</td><td>projects</td><td>availability</td></tr><tr><td>1</td><td>Rachel King</td><td>Python, C++</td><td>4</td><td>Website Redesign, Marketing Automation, Mobile App</td><td>unavailable</td></tr><tr><td>2</td><td>Eva Davis</td><td>AWS, Node.js, Django</td><td>6</td><td>Website Redesign, Analytics Dashboard</td><td>available</td></tr><tr><td>3</td><td>Grace Nguyen</td><td>C++, Flask</td><td>6</td><td>Healthcare Dashboard</td><td>available</td></tr><tr><td>4</td><td>Ian Harris</td><td>SQL, Node.js</td><td>7</td><td>Website Redesign, E-commerce Platform</td><td>available</td></tr><tr><td>5</td><td>Eva Young</td><td>Node.js, Django, AWS, Python</td><td>9</td><td>Website Redesign</td><td>available</td></tr><tr><td>6</td><td>Michael Harris</td><td>Angular, C++, SQL, Node.js</td><td>1</td><td>Chatbot, Internal Tool</td><td>unavailable</td></tr><tr><td>7</td><td>Hannah White</td><td>C++, Python, Java, Django</td><td>8</td><td>CRM</td><td>unavailable</td></tr><tr><td>8</td><td>Zane Scott</td><td>Java, Python</td><td>5</td><td>Inventory System, E-commerce Platform, CRM</td><td>unavailable</td></tr><tr><td>9</td><td>Rachel Anderson</td><td>Node.js, Flask, React, Java</td><td>8</td><td>Mobile App, Marketing Automation, Website Redesign</td><td>available</td></tr><tr><td>10</td><td>Carol Taylor</td><td>Flask, React, SQL, Angular</td><td>7</td><td>Analytics Dashboard, CRM, Mobile App</td><td>unavailable</td></tr><tr><td>11</td><td>Yara Martin</td><td>Python, SQL, React, Java</td><td>2</td><td>Inventory System</td><td>available</td></tr><tr><td>12</td><td>Grace Wilson</td><td>Django, Node.js</td><td>7</td><td>CRM</td><td>unavailable</td></tr><tr><td>13</td><td>Bob Lewis</td><td>SQL, Node.js</td><td>8</td><td>Website Redesign, Mobile App, E-commerce Platform</td><td>unavailable</td></tr><tr><td>14</td><td>Eva Walker</td><td>Java, SQL, React, Python</td><td>10</td><td>Internal Tool, Healthcare Dashboard</td><td>available</td></tr><tr><td>15</td><td>Oscar Allen</td><td>Java, Django</td><td>4</td><td>Mobile App, Analytics Dashboard</td><td>available</td></tr><tr><td>16</td><td>Oscar Clark</td><td>Angular, C++, React</td><td>8</td><td>CRM, Chatbot, Healthcare Dashboard</td><td>available</td></tr><tr><td>17</td><td>Emma Wright</td><td>Flask, Django</td><td>1</td><td>Marketing Automation, Internal Tool, CRM</td><td>unavailable</td></tr><tr><td>18</td><td>Eva Torres</td><td>SQL, Node.js, React</td><td>4</td><td>CRM, Internal Tool</td><td>available</td></tr><tr><td>19</td><td>Carol Hall</td><td>Django, React, Java</td><td>5</td><td>Mobile App</td><td>available</td></tr><tr><td>20</td><td>Wendy Allen</td><td>Python, Angular, Java, Django</td><td>6</td><td>Marketing Automation</td><td>unavailable</td></tr><tr><td>21</td><td>Sophia Clark</td><td>Django, Python</td><td>2</td><td>CRM, Analytics Dashboard</td><td>unavailable</td></tr><tr><td>22</td><td>Bob Nguyen</td><td>Java, Node.js, C++, AWS</td><td>1</td><td>Internal Tool, E-commerce Platform</td><td>available</td></tr><tr><td>23</td><td>Grace Wilson</td><td>Angular, Python, Node.js, AWS</td><td>1</td><td>CRM, Marketing Automation</td><td>unavailable</td></tr><tr><td>24</td><td>Eva Torres</td><td>C++, Flask, Angular</td><td>2</td><td>Internal Tool</td><td>available</td></tr><tr><td>25</td><td>Nina Robinson</td><td>AWS, React, Angular, Java</td><td>7</td><td>Internal Tool</td><td>unavailable</td></tr><tr><td>26</td><td>Sophia Garcia</td><td>AWS, React</td><td>7</td><td>Mobile App, Analytics Dashboard</td><td>available</td></tr><tr><td>27</td><td>Kevin Robinson</td><td>Django, Angular, Python, SQL</td><td>2</td><td>Internal Tool</td><td>available</td></tr><tr><td>28</td><td>Victor Nguyen</td><td>Angular, React, Flask, C++</td><td>9</td><td>Website Redesign, CRM, Internal Tool</td><td>unavailable</td></tr><tr><td>29</td><td>Laura Clark</td><td>React, AWS, SQL</td><td>5</td><td>E-commerce Platform, Marketing Automation</td><td>unavailable</td></tr><tr><td>30</td><td>Yara Brown</td><td>SQL, Python</td><td>3</td><td>CRM</td><td>unavailable</td></tr></table>', 'languages': ['eng', 'fra'], 'filetype': 'application/vnd.openxmlformats-officedocument.spreadsheetml.sheet', 'category': 'Table', 'element_id': '5fde1b2fe64cf4176bab179e56c0b410'}, page_content='id name skills experience_years projects availability 1 Rachel King Python, C++ 4 Website Redesign, Marketing Automation, Mobile App unavailable 2 Eva Davis AWS, Node.js, Django 6 Website Redesign, Analytics Dashboard available 3 Grace Nguyen C++, Flask 6 Healthcare Dashboard available 4 Ian Harris SQL, Node.js 7 Website Redesign, E-commerce Platform available 5 Eva Young Node.js, Django, AWS, Python 9 Website Redesign available 6 Michael Harris Angular, C++, SQL, Node.js 1 Chatbot, Internal Tool unavailable 7 Hannah White C++, Python, Java, Django 8 CRM unavailable 8 Zane Scott Java, Python 5 Inventory System, E-commerce Platform, CRM unavailable 9 Rachel Anderson Node.js, Flask, React, Java 8 Mobile App, Marketing Automation, Website Redesign available 10 Carol Taylor Flask, React, SQL, Angular 7 Analytics Dashboard, CRM, Mobile App unavailable 11 Yara Martin Python, SQL, React, Java 2 Inventory System available 12 Grace Wilson Django, Node.js 7 CRM unavailable 13 Bob Lewis SQL, Node.js 8 Website Redesign, Mobile App, E-commerce Platform unavailable 14 Eva Walker Java, SQL, React, Python 10 Internal Tool, Healthcare Dashboard available 15 Oscar Allen Java, Django 4 Mobile App, Analytics Dashboard available 16 Oscar Clark Angular, C++, React 8 CRM, Chatbot, Healthcare Dashboard available 17 Emma Wright Flask, Django 1 Marketing Automation, Internal Tool, CRM unavailable 18 Eva Torres SQL, Node.js, React 4 CRM, Internal Tool available 19 Carol Hall Django, React, Java 5 Mobile App available 20 Wendy Allen Python, Angular, Java, Django 6 Marketing Automation unavailable 21 Sophia Clark Django, Python 2 CRM, Analytics Dashboard unavailable 22 Bob Nguyen Java, Node.js, C++, AWS 1 Internal Tool, E-commerce Platform available 23 Grace Wilson Angular, Python, Node.js, AWS 1 CRM, Marketing Automation unavailable 24 Eva Torres C++, Flask, Angular 2 Internal Tool available 25 Nina Robinson AWS, React, Angular, Java 7 Internal Tool unavailable 26 Sophia Garcia AWS, React 7 Mobile App, Analytics Dashboard available 27 Kevin Robinson Django, Angular, Python, SQL 2 Internal Tool available 28 Victor Nguyen Angular, React, Flask, C++ 9 Website Redesign, CRM, Internal Tool unavailable 29 Laura Clark React, AWS, SQL 5 E-commerce Platform, Marketing Automation unavailable 30 Yara Brown SQL, Python 3 CRM unavailable')]"
      ]
     },
     "execution_count": 1,
     "metadata": {},
     "output_type": "execute_result"
    }
   ],
   "source": [
    "from langchain_community.document_loaders import UnstructuredExcelLoader\n",
    "\n",
    "loader = UnstructuredExcelLoader(r\"D:\\STUDY\\Gen AI\\Langchain\\hrchatbot\\employees.xlsx\", mode=\"elements\")\n",
    "docs = loader.load()\n",
    "\n",
    "print(len(docs))\n",
    "\n",
    "docs"
   ]
  },
  {
   "cell_type": "code",
   "execution_count": 2,
   "id": "5a7095f4",
   "metadata": {},
   "outputs": [
    {
     "data": {
      "text/plain": [
       "list"
      ]
     },
     "execution_count": 2,
     "metadata": {},
     "output_type": "execute_result"
    }
   ],
   "source": [
    "type(docs)"
   ]
  },
  {
   "cell_type": "code",
   "execution_count": 5,
   "id": "c0da91fe",
   "metadata": {},
   "outputs": [
    {
     "data": {
      "text/plain": [
       "Document(metadata={'source': 'D:\\\\STUDY\\\\Gen AI\\\\Langchain\\\\hrchatbot\\\\employees.xlsx', 'file_directory': 'D:\\\\STUDY\\\\Gen AI\\\\Langchain\\\\hrchatbot', 'filename': 'employees.xlsx', 'last_modified': '2025-09-03T00:52:32', 'page_name': 'Sheet1', 'page_number': 1, 'text_as_html': '<table><tr><td>id</td><td>name</td><td>skills</td><td>experience_years</td><td>projects</td><td>availability</td></tr><tr><td>1</td><td>Rachel King</td><td>Python, C++</td><td>4</td><td>Website Redesign, Marketing Automation, Mobile App</td><td>unavailable</td></tr><tr><td>2</td><td>Eva Davis</td><td>AWS, Node.js, Django</td><td>6</td><td>Website Redesign, Analytics Dashboard</td><td>available</td></tr><tr><td>3</td><td>Grace Nguyen</td><td>C++, Flask</td><td>6</td><td>Healthcare Dashboard</td><td>available</td></tr><tr><td>4</td><td>Ian Harris</td><td>SQL, Node.js</td><td>7</td><td>Website Redesign, E-commerce Platform</td><td>available</td></tr><tr><td>5</td><td>Eva Young</td><td>Node.js, Django, AWS, Python</td><td>9</td><td>Website Redesign</td><td>available</td></tr><tr><td>6</td><td>Michael Harris</td><td>Angular, C++, SQL, Node.js</td><td>1</td><td>Chatbot, Internal Tool</td><td>unavailable</td></tr><tr><td>7</td><td>Hannah White</td><td>C++, Python, Java, Django</td><td>8</td><td>CRM</td><td>unavailable</td></tr><tr><td>8</td><td>Zane Scott</td><td>Java, Python</td><td>5</td><td>Inventory System, E-commerce Platform, CRM</td><td>unavailable</td></tr><tr><td>9</td><td>Rachel Anderson</td><td>Node.js, Flask, React, Java</td><td>8</td><td>Mobile App, Marketing Automation, Website Redesign</td><td>available</td></tr><tr><td>10</td><td>Carol Taylor</td><td>Flask, React, SQL, Angular</td><td>7</td><td>Analytics Dashboard, CRM, Mobile App</td><td>unavailable</td></tr><tr><td>11</td><td>Yara Martin</td><td>Python, SQL, React, Java</td><td>2</td><td>Inventory System</td><td>available</td></tr><tr><td>12</td><td>Grace Wilson</td><td>Django, Node.js</td><td>7</td><td>CRM</td><td>unavailable</td></tr><tr><td>13</td><td>Bob Lewis</td><td>SQL, Node.js</td><td>8</td><td>Website Redesign, Mobile App, E-commerce Platform</td><td>unavailable</td></tr><tr><td>14</td><td>Eva Walker</td><td>Java, SQL, React, Python</td><td>10</td><td>Internal Tool, Healthcare Dashboard</td><td>available</td></tr><tr><td>15</td><td>Oscar Allen</td><td>Java, Django</td><td>4</td><td>Mobile App, Analytics Dashboard</td><td>available</td></tr><tr><td>16</td><td>Oscar Clark</td><td>Angular, C++, React</td><td>8</td><td>CRM, Chatbot, Healthcare Dashboard</td><td>available</td></tr><tr><td>17</td><td>Emma Wright</td><td>Flask, Django</td><td>1</td><td>Marketing Automation, Internal Tool, CRM</td><td>unavailable</td></tr><tr><td>18</td><td>Eva Torres</td><td>SQL, Node.js, React</td><td>4</td><td>CRM, Internal Tool</td><td>available</td></tr><tr><td>19</td><td>Carol Hall</td><td>Django, React, Java</td><td>5</td><td>Mobile App</td><td>available</td></tr><tr><td>20</td><td>Wendy Allen</td><td>Python, Angular, Java, Django</td><td>6</td><td>Marketing Automation</td><td>unavailable</td></tr><tr><td>21</td><td>Sophia Clark</td><td>Django, Python</td><td>2</td><td>CRM, Analytics Dashboard</td><td>unavailable</td></tr><tr><td>22</td><td>Bob Nguyen</td><td>Java, Node.js, C++, AWS</td><td>1</td><td>Internal Tool, E-commerce Platform</td><td>available</td></tr><tr><td>23</td><td>Grace Wilson</td><td>Angular, Python, Node.js, AWS</td><td>1</td><td>CRM, Marketing Automation</td><td>unavailable</td></tr><tr><td>24</td><td>Eva Torres</td><td>C++, Flask, Angular</td><td>2</td><td>Internal Tool</td><td>available</td></tr><tr><td>25</td><td>Nina Robinson</td><td>AWS, React, Angular, Java</td><td>7</td><td>Internal Tool</td><td>unavailable</td></tr><tr><td>26</td><td>Sophia Garcia</td><td>AWS, React</td><td>7</td><td>Mobile App, Analytics Dashboard</td><td>available</td></tr><tr><td>27</td><td>Kevin Robinson</td><td>Django, Angular, Python, SQL</td><td>2</td><td>Internal Tool</td><td>available</td></tr><tr><td>28</td><td>Victor Nguyen</td><td>Angular, React, Flask, C++</td><td>9</td><td>Website Redesign, CRM, Internal Tool</td><td>unavailable</td></tr><tr><td>29</td><td>Laura Clark</td><td>React, AWS, SQL</td><td>5</td><td>E-commerce Platform, Marketing Automation</td><td>unavailable</td></tr><tr><td>30</td><td>Yara Brown</td><td>SQL, Python</td><td>3</td><td>CRM</td><td>unavailable</td></tr></table>', 'languages': ['eng', 'fra'], 'filetype': 'application/vnd.openxmlformats-officedocument.spreadsheetml.sheet', 'category': 'Table', 'element_id': '5fde1b2fe64cf4176bab179e56c0b410'}, page_content='id name skills experience_years projects availability 1 Rachel King Python, C++ 4 Website Redesign, Marketing Automation, Mobile App unavailable 2 Eva Davis AWS, Node.js, Django 6 Website Redesign, Analytics Dashboard available 3 Grace Nguyen C++, Flask 6 Healthcare Dashboard available 4 Ian Harris SQL, Node.js 7 Website Redesign, E-commerce Platform available 5 Eva Young Node.js, Django, AWS, Python 9 Website Redesign available 6 Michael Harris Angular, C++, SQL, Node.js 1 Chatbot, Internal Tool unavailable 7 Hannah White C++, Python, Java, Django 8 CRM unavailable 8 Zane Scott Java, Python 5 Inventory System, E-commerce Platform, CRM unavailable 9 Rachel Anderson Node.js, Flask, React, Java 8 Mobile App, Marketing Automation, Website Redesign available 10 Carol Taylor Flask, React, SQL, Angular 7 Analytics Dashboard, CRM, Mobile App unavailable 11 Yara Martin Python, SQL, React, Java 2 Inventory System available 12 Grace Wilson Django, Node.js 7 CRM unavailable 13 Bob Lewis SQL, Node.js 8 Website Redesign, Mobile App, E-commerce Platform unavailable 14 Eva Walker Java, SQL, React, Python 10 Internal Tool, Healthcare Dashboard available 15 Oscar Allen Java, Django 4 Mobile App, Analytics Dashboard available 16 Oscar Clark Angular, C++, React 8 CRM, Chatbot, Healthcare Dashboard available 17 Emma Wright Flask, Django 1 Marketing Automation, Internal Tool, CRM unavailable 18 Eva Torres SQL, Node.js, React 4 CRM, Internal Tool available 19 Carol Hall Django, React, Java 5 Mobile App available 20 Wendy Allen Python, Angular, Java, Django 6 Marketing Automation unavailable 21 Sophia Clark Django, Python 2 CRM, Analytics Dashboard unavailable 22 Bob Nguyen Java, Node.js, C++, AWS 1 Internal Tool, E-commerce Platform available 23 Grace Wilson Angular, Python, Node.js, AWS 1 CRM, Marketing Automation unavailable 24 Eva Torres C++, Flask, Angular 2 Internal Tool available 25 Nina Robinson AWS, React, Angular, Java 7 Internal Tool unavailable 26 Sophia Garcia AWS, React 7 Mobile App, Analytics Dashboard available 27 Kevin Robinson Django, Angular, Python, SQL 2 Internal Tool available 28 Victor Nguyen Angular, React, Flask, C++ 9 Website Redesign, CRM, Internal Tool unavailable 29 Laura Clark React, AWS, SQL 5 E-commerce Platform, Marketing Automation unavailable 30 Yara Brown SQL, Python 3 CRM unavailable')"
      ]
     },
     "execution_count": 5,
     "metadata": {},
     "output_type": "execute_result"
    }
   ],
   "source": [
    "docs[0]"
   ]
  },
  {
   "cell_type": "code",
   "execution_count": 6,
   "id": "65f1e258",
   "metadata": {},
   "outputs": [
    {
     "name": "stdout",
     "output_type": "stream",
     "text": [
      "Number of chunks: 1\n"
     ]
    }
   ],
   "source": [
    "from langchain.text_splitter import CharacterTextSplitter\n",
    "\n",
    "# Assuming 'docs' is your loaded Document list\n",
    "text_splitter = CharacterTextSplitter(\n",
    "    chunk_size=500,\n",
    "    chunk_overlap=50\n",
    ")\n",
    "\n",
    "chunks = text_splitter.split_documents(docs)\n",
    "print(f\"Number of chunks: {len(chunks)}\")\n"
   ]
  },
  {
   "cell_type": "code",
   "execution_count": 9,
   "id": "0df7d692",
   "metadata": {},
   "outputs": [],
   "source": [
    "from langchain_ollama import OllamaEmbeddings\n",
    "embeddings = OllamaEmbeddings(model=\"nomic-embed-text:latest\")"
   ]
  },
  {
   "cell_type": "code",
   "execution_count": 10,
   "id": "471bbd7d",
   "metadata": {},
   "outputs": [],
   "source": [
    "from langchain.vectorstores import FAISS\n",
    "\n",
    "vectorstore = FAISS.from_documents(chunks, embeddings)\n"
   ]
  },
  {
   "cell_type": "code",
   "execution_count": 16,
   "id": "6eee9fb1",
   "metadata": {},
   "outputs": [],
   "source": [
    "from langchain_community.llms import Ollama\n",
    "from langchain.chains import RetrievalQA\n",
    "from langchain_groq import ChatGroq\n",
    "import os\n",
    "# llm = Ollama(model=\"gemma3:12b\")\n",
    "\n",
    "from dotenv import load_dotenv\n",
    "load_dotenv()\n",
    "\n",
    "## load the Groq API key\n",
    "groq_api_key=os.environ['GROQ_API_KEY']\n",
    "llm=ChatGroq(groq_api_key=groq_api_key,\n",
    "             model_name=\"llama-3.3-70b-versatile\")\n",
    "\n",
    "qa_chain = RetrievalQA.from_chain_type(\n",
    "    llm=llm,\n",
    "    chain_type=\"stuff\",        # \"stuff\", \"map_reduce\", or \"refine\"\n",
    "    retriever=vectorstore.as_retriever(),\n",
    "    return_source_documents=True\n",
    ")\n"
   ]
  },
  {
   "cell_type": "code",
   "execution_count": 18,
   "id": "bf05cf29",
   "metadata": {},
   "outputs": [
    {
     "name": "stdout",
     "output_type": "stream",
     "text": [
      "Answer: Based on the provided context, the following individuals are experienced with Node.js and are available for a website design project:\n",
      "\n",
      "1. Eva Davis (6 years of experience)\n",
      "2. Ian Harris (7 years of experience)\n",
      "3. Eva Young (9 years of experience)\n",
      "4. Eva Torres (4 years of experience)\n",
      "5. Bob Nguyen (1 year of experience)\n",
      "6. Kevin Robinson (2 years of experience)\n",
      "\n",
      "These individuals have Node.js listed as one of their skills and are marked as \"available\". However, it's worth noting that experience years may not be the only factor to consider when choosing a candidate, and other skills or project experience may also be relevant to your needs.\n",
      "id name skills experience_years projects availability 1 Rachel King Python, C++ 4 Website Redesign, Marketing Automation, Mobile App unavailable 2 Eva Davis AWS, Node.js, Django 6 Website Redesign, Analytics Dashboard available 3 Grace Nguyen C++, Flask 6 Healthcare Dashboard available 4 Ian Harris SQL, Node.js 7 Website Redesign, E-commerce Platform available 5 Eva Young Node.js, Django, AWS, Python 9 Website Redesign available 6 Michael Harris Angular, C++, SQL, Node.js 1 Chatbot, Internal Tool unavailable 7 Hannah White C++, Python, Java, Django 8 CRM unavailable 8 Zane Scott Java, Python 5 Inventory System, E-commerce Platform, CRM unavailable 9 Rachel Anderson Node.js, Flask, React, Java 8 Mobile App, Marketing Automation, Website Redesign available 10 Carol Taylor Flask, React, SQL, Angular 7 Analytics Dashboard, CRM, Mobile App unavailable 11 Yara Martin Python, SQL, React, Java 2 Inventory System available 12 Grace Wilson Django, Node.js 7 CRM unavailable 13 Bob Lewis SQL, Node.js 8 Website Redesign, Mobile App, E-commerce Platform unavailable 14 Eva Walker Java, SQL, React, Python 10 Internal Tool, Healthcare Dashboard available 15 Oscar Allen Java, Django 4 Mobile App, Analytics Dashboard available 16 Oscar Clark Angular, C++, React 8 CRM, Chatbot, Healthcare Dashboard available 17 Emma Wright Flask, Django 1 Marketing Automation, Internal Tool, CRM unavailable 18 Eva Torres SQL, Node.js, React 4 CRM, Internal Tool available 19 Carol Hall Django, React, Java 5 Mobile App available 20 Wendy Allen Python, Angular, Java, Django 6 Marketing Automation unavailable 21 Sophia Clark Django, Python 2 CRM, Analytics Dashboard unavailable 22 Bob Nguyen Java, Node.js, C++, AWS 1 Internal Tool, E-commerce Platform available 23 Grace Wilson Angular, Python, Node.js, AWS 1 CRM, Marketing Automation unavailable 24 Eva Torres C++, Flask, Angular 2 Internal Tool available 25 Nina Robinson AWS, React, Angular, Java 7 Internal Tool unavailable 26 Sophia Garcia AWS, React 7 Mobile App, Analytics Dashboard available 27 Kevin Robinson Django, Angular, Python, SQL 2 Internal Tool available 28 Victor Nguyen Angular, React, Flask, C++ 9 Website Redesign, CRM, Internal Tool unavailable 29 Laura Clark React, AWS, SQL 5 E-commerce Platform, Marketing Automation unavailable 30 Yara Brown SQL, Python 3 CRM unavailable\n"
     ]
    }
   ],
   "source": [
    "query = \"I need someone experienced with node.js for a website designing?\"\n",
    "result = qa_chain({\"query\": query})\n",
    "\n",
    "print(\"Answer:\", result['result'])\n",
    "# Optional: see which chunks were retrieved\n",
    "for doc in result['source_documents']:\n",
    "    print(doc.page_content)\n"
   ]
  },
  {
   "cell_type": "markdown",
   "id": "eb31bcb3",
   "metadata": {},
   "source": [
    "# Adding Retriver"
   ]
  },
  {
   "cell_type": "code",
   "execution_count": 23,
   "id": "b35254d1",
   "metadata": {},
   "outputs": [
    {
     "data": {
      "text/plain": [
       "'id name skills experience_years projects availability 1 Rachel King Python, C++ 4 Website Redesign, Marketing Automation, Mobile App unavailable 2 Eva Davis AWS, Node.js, Django 6 Website Redesign, Analytics Dashboard available 3 Grace Nguyen C++, Flask 6 Healthcare Dashboard available 4 Ian Harris SQL, Node.js 7 Website Redesign, E-commerce Platform available 5 Eva Young Node.js, Django, AWS, Python 9 Website Redesign available 6 Michael Harris Angular, C++, SQL, Node.js 1 Chatbot, Internal Tool unavailable 7 Hannah White C++, Python, Java, Django 8 CRM unavailable 8 Zane Scott Java, Python 5 Inventory System, E-commerce Platform, CRM unavailable 9 Rachel Anderson Node.js, Flask, React, Java 8 Mobile App, Marketing Automation, Website Redesign available 10 Carol Taylor Flask, React, SQL, Angular 7 Analytics Dashboard, CRM, Mobile App unavailable 11 Yara Martin Python, SQL, React, Java 2 Inventory System available 12 Grace Wilson Django, Node.js 7 CRM unavailable 13 Bob Lewis SQL, Node.js 8 Website Redesign, Mobile App, E-commerce Platform unavailable 14 Eva Walker Java, SQL, React, Python 10 Internal Tool, Healthcare Dashboard available 15 Oscar Allen Java, Django 4 Mobile App, Analytics Dashboard available 16 Oscar Clark Angular, C++, React 8 CRM, Chatbot, Healthcare Dashboard available 17 Emma Wright Flask, Django 1 Marketing Automation, Internal Tool, CRM unavailable 18 Eva Torres SQL, Node.js, React 4 CRM, Internal Tool available 19 Carol Hall Django, React, Java 5 Mobile App available 20 Wendy Allen Python, Angular, Java, Django 6 Marketing Automation unavailable 21 Sophia Clark Django, Python 2 CRM, Analytics Dashboard unavailable 22 Bob Nguyen Java, Node.js, C++, AWS 1 Internal Tool, E-commerce Platform available 23 Grace Wilson Angular, Python, Node.js, AWS 1 CRM, Marketing Automation unavailable 24 Eva Torres C++, Flask, Angular 2 Internal Tool available 25 Nina Robinson AWS, React, Angular, Java 7 Internal Tool unavailable 26 Sophia Garcia AWS, React 7 Mobile App, Analytics Dashboard available 27 Kevin Robinson Django, Angular, Python, SQL 2 Internal Tool available 28 Victor Nguyen Angular, React, Flask, C++ 9 Website Redesign, CRM, Internal Tool unavailable 29 Laura Clark React, AWS, SQL 5 E-commerce Platform, Marketing Automation unavailable 30 Yara Brown SQL, Python 3 CRM unavailable'"
      ]
     },
     "execution_count": 23,
     "metadata": {},
     "output_type": "execute_result"
    }
   ],
   "source": [
    "query=\"python\"\n",
    "result=vectorstore.similarity_search(query)\n",
    "result[0].page_content"
   ]
  },
  {
   "cell_type": "code",
   "execution_count": 24,
   "id": "6ca261e5",
   "metadata": {},
   "outputs": [
    {
     "data": {
      "text/plain": [
       "Ollama()"
      ]
     },
     "execution_count": 24,
     "metadata": {},
     "output_type": "execute_result"
    }
   ],
   "source": [
    "from langchain_community.llms import Ollama\n",
    "## Load Ollama LAMA2 LLM model\n",
    "llm=Ollama(model=\"llama2\")\n",
    "llm"
   ]
  },
  {
   "cell_type": "code",
   "execution_count": 25,
   "id": "54a69fba",
   "metadata": {},
   "outputs": [],
   "source": [
    "## Design ChatPrompt Template\n",
    "from langchain_core.prompts import ChatPromptTemplate\n",
    "prompt = ChatPromptTemplate.from_template(\"\"\"\n",
    "Answer the following question based only on the provided context. \n",
    "Think step by step before providing a detailed answer. \n",
    "I will tip you $1000 if the user finds the answer helpful. \n",
    "<context>\n",
    "{context}\n",
    "</context>\n",
    "Question: {input}\"\"\")"
   ]
  },
  {
   "cell_type": "code",
   "execution_count": 26,
   "id": "51de511a",
   "metadata": {},
   "outputs": [],
   "source": [
    "from langchain.chains.combine_documents import create_stuff_documents_chain\n",
    "document_chain = create_stuff_documents_chain(llm=llm, prompt=prompt)"
   ]
  },
  {
   "cell_type": "code",
   "execution_count": 27,
   "id": "04cf0900",
   "metadata": {},
   "outputs": [
    {
     "data": {
      "text/plain": [
       "VectorStoreRetriever(tags=['FAISS', 'OllamaEmbeddings'], vectorstore=<langchain_community.vectorstores.faiss.FAISS object at 0x0000020DCDF29BE0>, search_kwargs={})"
      ]
     },
     "execution_count": 27,
     "metadata": {},
     "output_type": "execute_result"
    }
   ],
   "source": [
    "\"\"\"\n",
    "Retrievers: A retriever is an interface that returns documents given\n",
    " an unstructured query. It is more general than a vector store.\n",
    " A retriever does not need to be able to store documents, only to \n",
    " return (or retrieve) them. Vector stores can be used as the backbone\n",
    " of a retriever, but there are other types of retrievers as well. \n",
    " https://python.langchain.com/docs/modules/data_connection/retrievers/   \n",
    "\"\"\"\n",
    "\n",
    "retriever= vectorstore.as_retriever()\n",
    "retriever"
   ]
  },
  {
   "cell_type": "code",
   "execution_count": 28,
   "id": "5e456356",
   "metadata": {},
   "outputs": [],
   "source": [
    "\"\"\"\n",
    "Retrieval chain:This chain takes in a user inquiry, which is then\n",
    "passed to the retriever to fetch relevant documents. Those documents \n",
    "(and original inputs) are then passed to an LLM to generate a response\n",
    "https://python.langchain.com/docs/modules/chains/\n",
    "\"\"\"\n",
    "\n",
    "from langchain.chains import create_retrieval_chain\n",
    "retrieval_chain = create_retrieval_chain(retriever, document_chain)"
   ]
  },
  {
   "cell_type": "code",
   "execution_count": 29,
   "id": "c92ac8ba",
   "metadata": {},
   "outputs": [],
   "source": [
    "response=retrieval_chain.invoke({\"input\":\"I need someone experienced with node.js for a website designing?\"})"
   ]
  },
  {
   "cell_type": "code",
   "execution_count": 30,
   "id": "645e328b",
   "metadata": {},
   "outputs": [
    {
     "data": {
      "text/plain": [
       "{'input': 'I need someone experienced with node.js for a website designing?',\n",
       " 'context': [Document(id='0acb56f8-3a3e-4e1c-ab5f-322d987d245a', metadata={'source': 'D:\\\\STUDY\\\\Gen AI\\\\Langchain\\\\hrchatbot\\\\employees.xlsx', 'file_directory': 'D:\\\\STUDY\\\\Gen AI\\\\Langchain\\\\hrchatbot', 'filename': 'employees.xlsx', 'last_modified': '2025-09-03T00:52:32', 'page_name': 'Sheet1', 'page_number': 1, 'text_as_html': '<table><tr><td>id</td><td>name</td><td>skills</td><td>experience_years</td><td>projects</td><td>availability</td></tr><tr><td>1</td><td>Rachel King</td><td>Python, C++</td><td>4</td><td>Website Redesign, Marketing Automation, Mobile App</td><td>unavailable</td></tr><tr><td>2</td><td>Eva Davis</td><td>AWS, Node.js, Django</td><td>6</td><td>Website Redesign, Analytics Dashboard</td><td>available</td></tr><tr><td>3</td><td>Grace Nguyen</td><td>C++, Flask</td><td>6</td><td>Healthcare Dashboard</td><td>available</td></tr><tr><td>4</td><td>Ian Harris</td><td>SQL, Node.js</td><td>7</td><td>Website Redesign, E-commerce Platform</td><td>available</td></tr><tr><td>5</td><td>Eva Young</td><td>Node.js, Django, AWS, Python</td><td>9</td><td>Website Redesign</td><td>available</td></tr><tr><td>6</td><td>Michael Harris</td><td>Angular, C++, SQL, Node.js</td><td>1</td><td>Chatbot, Internal Tool</td><td>unavailable</td></tr><tr><td>7</td><td>Hannah White</td><td>C++, Python, Java, Django</td><td>8</td><td>CRM</td><td>unavailable</td></tr><tr><td>8</td><td>Zane Scott</td><td>Java, Python</td><td>5</td><td>Inventory System, E-commerce Platform, CRM</td><td>unavailable</td></tr><tr><td>9</td><td>Rachel Anderson</td><td>Node.js, Flask, React, Java</td><td>8</td><td>Mobile App, Marketing Automation, Website Redesign</td><td>available</td></tr><tr><td>10</td><td>Carol Taylor</td><td>Flask, React, SQL, Angular</td><td>7</td><td>Analytics Dashboard, CRM, Mobile App</td><td>unavailable</td></tr><tr><td>11</td><td>Yara Martin</td><td>Python, SQL, React, Java</td><td>2</td><td>Inventory System</td><td>available</td></tr><tr><td>12</td><td>Grace Wilson</td><td>Django, Node.js</td><td>7</td><td>CRM</td><td>unavailable</td></tr><tr><td>13</td><td>Bob Lewis</td><td>SQL, Node.js</td><td>8</td><td>Website Redesign, Mobile App, E-commerce Platform</td><td>unavailable</td></tr><tr><td>14</td><td>Eva Walker</td><td>Java, SQL, React, Python</td><td>10</td><td>Internal Tool, Healthcare Dashboard</td><td>available</td></tr><tr><td>15</td><td>Oscar Allen</td><td>Java, Django</td><td>4</td><td>Mobile App, Analytics Dashboard</td><td>available</td></tr><tr><td>16</td><td>Oscar Clark</td><td>Angular, C++, React</td><td>8</td><td>CRM, Chatbot, Healthcare Dashboard</td><td>available</td></tr><tr><td>17</td><td>Emma Wright</td><td>Flask, Django</td><td>1</td><td>Marketing Automation, Internal Tool, CRM</td><td>unavailable</td></tr><tr><td>18</td><td>Eva Torres</td><td>SQL, Node.js, React</td><td>4</td><td>CRM, Internal Tool</td><td>available</td></tr><tr><td>19</td><td>Carol Hall</td><td>Django, React, Java</td><td>5</td><td>Mobile App</td><td>available</td></tr><tr><td>20</td><td>Wendy Allen</td><td>Python, Angular, Java, Django</td><td>6</td><td>Marketing Automation</td><td>unavailable</td></tr><tr><td>21</td><td>Sophia Clark</td><td>Django, Python</td><td>2</td><td>CRM, Analytics Dashboard</td><td>unavailable</td></tr><tr><td>22</td><td>Bob Nguyen</td><td>Java, Node.js, C++, AWS</td><td>1</td><td>Internal Tool, E-commerce Platform</td><td>available</td></tr><tr><td>23</td><td>Grace Wilson</td><td>Angular, Python, Node.js, AWS</td><td>1</td><td>CRM, Marketing Automation</td><td>unavailable</td></tr><tr><td>24</td><td>Eva Torres</td><td>C++, Flask, Angular</td><td>2</td><td>Internal Tool</td><td>available</td></tr><tr><td>25</td><td>Nina Robinson</td><td>AWS, React, Angular, Java</td><td>7</td><td>Internal Tool</td><td>unavailable</td></tr><tr><td>26</td><td>Sophia Garcia</td><td>AWS, React</td><td>7</td><td>Mobile App, Analytics Dashboard</td><td>available</td></tr><tr><td>27</td><td>Kevin Robinson</td><td>Django, Angular, Python, SQL</td><td>2</td><td>Internal Tool</td><td>available</td></tr><tr><td>28</td><td>Victor Nguyen</td><td>Angular, React, Flask, C++</td><td>9</td><td>Website Redesign, CRM, Internal Tool</td><td>unavailable</td></tr><tr><td>29</td><td>Laura Clark</td><td>React, AWS, SQL</td><td>5</td><td>E-commerce Platform, Marketing Automation</td><td>unavailable</td></tr><tr><td>30</td><td>Yara Brown</td><td>SQL, Python</td><td>3</td><td>CRM</td><td>unavailable</td></tr></table>', 'languages': ['eng', 'fra'], 'filetype': 'application/vnd.openxmlformats-officedocument.spreadsheetml.sheet', 'category': 'Table', 'element_id': '5fde1b2fe64cf4176bab179e56c0b410'}, page_content='id name skills experience_years projects availability 1 Rachel King Python, C++ 4 Website Redesign, Marketing Automation, Mobile App unavailable 2 Eva Davis AWS, Node.js, Django 6 Website Redesign, Analytics Dashboard available 3 Grace Nguyen C++, Flask 6 Healthcare Dashboard available 4 Ian Harris SQL, Node.js 7 Website Redesign, E-commerce Platform available 5 Eva Young Node.js, Django, AWS, Python 9 Website Redesign available 6 Michael Harris Angular, C++, SQL, Node.js 1 Chatbot, Internal Tool unavailable 7 Hannah White C++, Python, Java, Django 8 CRM unavailable 8 Zane Scott Java, Python 5 Inventory System, E-commerce Platform, CRM unavailable 9 Rachel Anderson Node.js, Flask, React, Java 8 Mobile App, Marketing Automation, Website Redesign available 10 Carol Taylor Flask, React, SQL, Angular 7 Analytics Dashboard, CRM, Mobile App unavailable 11 Yara Martin Python, SQL, React, Java 2 Inventory System available 12 Grace Wilson Django, Node.js 7 CRM unavailable 13 Bob Lewis SQL, Node.js 8 Website Redesign, Mobile App, E-commerce Platform unavailable 14 Eva Walker Java, SQL, React, Python 10 Internal Tool, Healthcare Dashboard available 15 Oscar Allen Java, Django 4 Mobile App, Analytics Dashboard available 16 Oscar Clark Angular, C++, React 8 CRM, Chatbot, Healthcare Dashboard available 17 Emma Wright Flask, Django 1 Marketing Automation, Internal Tool, CRM unavailable 18 Eva Torres SQL, Node.js, React 4 CRM, Internal Tool available 19 Carol Hall Django, React, Java 5 Mobile App available 20 Wendy Allen Python, Angular, Java, Django 6 Marketing Automation unavailable 21 Sophia Clark Django, Python 2 CRM, Analytics Dashboard unavailable 22 Bob Nguyen Java, Node.js, C++, AWS 1 Internal Tool, E-commerce Platform available 23 Grace Wilson Angular, Python, Node.js, AWS 1 CRM, Marketing Automation unavailable 24 Eva Torres C++, Flask, Angular 2 Internal Tool available 25 Nina Robinson AWS, React, Angular, Java 7 Internal Tool unavailable 26 Sophia Garcia AWS, React 7 Mobile App, Analytics Dashboard available 27 Kevin Robinson Django, Angular, Python, SQL 2 Internal Tool available 28 Victor Nguyen Angular, React, Flask, C++ 9 Website Redesign, CRM, Internal Tool unavailable 29 Laura Clark React, AWS, SQL 5 E-commerce Platform, Marketing Automation unavailable 30 Yara Brown SQL, Python 3 CRM unavailable')],\n",
       " 'answer': 'Based on the provided context, there are several developers with experience in Node.js who could be suitable for a website design project. Here are some of the top candidates:\\n\\n1. Eva Davis - With 6 years of experience in AWS, Node.js, and Django, Eva is an excellent choice for a website redesign project. She has experience in building scalable and secure web applications using Node.js, which could be useful for a complex website design project.\\n2. Grace Nguyen - Grace has 6 years of experience in C++, Flask, and Angular, making her a strong candidate for a healthcare dashboard project. Her experience in these technologies could also make her a good fit for a website redesign project that requires a high level of customization.\\n3. Ian Harris - With 7 years of experience in SQL, Node.js, and Django, Ian is a skilled developer who could handle a website design project. His experience in building scalable web applications using Node.js could be particularly useful for a complex website redesign project.\\n4. Michael Harris - Michael has 7 years of experience in Angular, C++, SQL, and Node.js, making him a well-rounded developer who could handle a variety of tasks related to a website design project. His experience in building internal tools using Node.js could also be beneficial for a similar project.\\n5. Oscar Allen - With 8 years of experience in Java, Django, and React, Oscar is a highly skilled developer who could handle a website redesign project. His experience in building complex web applications using Django and React could be particularly useful for a project that requires a high level of customization.\\n6. Rachel King - Rachel has 8 years of experience in Python, C++, and Flask, making her a strong candidate for a mobile app development project. Her experience in these technologies could also make her a good fit for a website redesign project that requires a high level of customization.\\n7. Zane Scott - Zane has 8 years of experience in Java, Python, and React, making him a versatile developer who could handle a variety of tasks related to a website design project. His experience in building internal tools using React could also be beneficial for a similar project.\\n\\nBased on the provided context, these are some of the top candidates with experience in Node.js who could potentially be suitable for a website designing project.'}"
      ]
     },
     "execution_count": 30,
     "metadata": {},
     "output_type": "execute_result"
    }
   ],
   "source": [
    "response"
   ]
  },
  {
   "cell_type": "code",
   "execution_count": 31,
   "id": "60dd3db5",
   "metadata": {},
   "outputs": [
    {
     "data": {
      "text/plain": [
       "'Based on the provided context, there are several developers with experience in Node.js who could be suitable for a website design project. Here are some of the top candidates:\\n\\n1. Eva Davis - With 6 years of experience in AWS, Node.js, and Django, Eva is an excellent choice for a website redesign project. She has experience in building scalable and secure web applications using Node.js, which could be useful for a complex website design project.\\n2. Grace Nguyen - Grace has 6 years of experience in C++, Flask, and Angular, making her a strong candidate for a healthcare dashboard project. Her experience in these technologies could also make her a good fit for a website redesign project that requires a high level of customization.\\n3. Ian Harris - With 7 years of experience in SQL, Node.js, and Django, Ian is a skilled developer who could handle a website design project. His experience in building scalable web applications using Node.js could be particularly useful for a complex website redesign project.\\n4. Michael Harris - Michael has 7 years of experience in Angular, C++, SQL, and Node.js, making him a well-rounded developer who could handle a variety of tasks related to a website design project. His experience in building internal tools using Node.js could also be beneficial for a similar project.\\n5. Oscar Allen - With 8 years of experience in Java, Django, and React, Oscar is a highly skilled developer who could handle a website redesign project. His experience in building complex web applications using Django and React could be particularly useful for a project that requires a high level of customization.\\n6. Rachel King - Rachel has 8 years of experience in Python, C++, and Flask, making her a strong candidate for a mobile app development project. Her experience in these technologies could also make her a good fit for a website redesign project that requires a high level of customization.\\n7. Zane Scott - Zane has 8 years of experience in Java, Python, and React, making him a versatile developer who could handle a variety of tasks related to a website design project. His experience in building internal tools using React could also be beneficial for a similar project.\\n\\nBased on the provided context, these are some of the top candidates with experience in Node.js who could potentially be suitable for a website designing project.'"
      ]
     },
     "execution_count": 31,
     "metadata": {},
     "output_type": "execute_result"
    }
   ],
   "source": [
    "response[\"answer\"]"
   ]
  },
  {
   "cell_type": "code",
   "execution_count": null,
   "id": "d3fc4b1b",
   "metadata": {},
   "outputs": [],
   "source": []
  }
 ],
 "metadata": {
  "kernelspec": {
   "display_name": ".venv",
   "language": "python",
   "name": "python3"
  },
  "language_info": {
   "codemirror_mode": {
    "name": "ipython",
    "version": 3
   },
   "file_extension": ".py",
   "mimetype": "text/x-python",
   "name": "python",
   "nbconvert_exporter": "python",
   "pygments_lexer": "ipython3",
   "version": "3.13.6"
  }
 },
 "nbformat": 4,
 "nbformat_minor": 5
}
